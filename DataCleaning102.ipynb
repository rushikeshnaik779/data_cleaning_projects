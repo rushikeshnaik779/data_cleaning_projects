{
  "nbformat": 4,
  "nbformat_minor": 0,
  "metadata": {
    "colab": {
      "name": "DataCleaning102.ipynb",
      "provenance": [],
      "authorship_tag": "ABX9TyOhiatYZhdpwGAbscstYzRq",
      "include_colab_link": true
    },
    "kernelspec": {
      "name": "python3",
      "display_name": "Python 3"
    },
    "language_info": {
      "name": "python"
    }
  },
  "cells": [
    {
      "cell_type": "markdown",
      "metadata": {
        "id": "view-in-github",
        "colab_type": "text"
      },
      "source": [
        "<a href=\"https://colab.research.google.com/github/rushikeshnaik779/data_cleaning_projects/blob/main/DataCleaning102.ipynb\" target=\"_parent\"><img src=\"https://colab.research.google.com/assets/colab-badge.svg\" alt=\"Open In Colab\"/></a>"
      ]
    },
    {
      "cell_type": "code",
      "metadata": {
        "colab": {
          "base_uri": "https://localhost:8080/"
        },
        "id": "5NjPJ8LY96Bo",
        "outputId": "ea56e674-7063-4718-f92a-2f6f3bba69de"
      },
      "source": [
        "!wget https://raw.githubusercontent.com/Jcharis/Data-Cleaning-Practical-Examples/master/Data_Cleaning_In_Python_Working_with_Str/dataset.csv"
      ],
      "execution_count": 2,
      "outputs": [
        {
          "output_type": "stream",
          "text": [
            "--2021-08-24 16:24:15--  https://raw.githubusercontent.com/Jcharis/Data-Cleaning-Practical-Examples/master/Data_Cleaning_In_Python_Working_with_Str/dataset.csv\n",
            "Resolving raw.githubusercontent.com (raw.githubusercontent.com)... 185.199.110.133, 185.199.109.133, 185.199.111.133, ...\n",
            "Connecting to raw.githubusercontent.com (raw.githubusercontent.com)|185.199.110.133|:443... connected.\n",
            "HTTP request sent, awaiting response... 200 OK\n",
            "Length: 206855 (202K) [text/plain]\n",
            "Saving to: ‘dataset.csv’\n",
            "\n",
            "dataset.csv         100%[===================>] 202.01K  --.-KB/s    in 0.02s   \n",
            "\n",
            "2021-08-24 16:24:15 (8.37 MB/s) - ‘dataset.csv’ saved [206855/206855]\n",
            "\n"
          ],
          "name": "stdout"
        }
      ]
    },
    {
      "cell_type": "code",
      "metadata": {
        "id": "fnL1AQ9R-Um9"
      },
      "source": [
        "# let's import the daata set \n",
        "import pandas as pd \n",
        "import numpy as np\n",
        "import seaborn as sns \n",
        "import numpy as np"
      ],
      "execution_count": 3,
      "outputs": []
    },
    {
      "cell_type": "code",
      "metadata": {
        "id": "2e0q2Dle-ojn"
      },
      "source": [
        "data = pd.read_csv('./dataset.csv')"
      ],
      "execution_count": 4,
      "outputs": []
    },
    {
      "cell_type": "code",
      "metadata": {
        "colab": {
          "base_uri": "https://localhost:8080/",
          "height": 445
        },
        "id": "lkrifEQ3--n_",
        "outputId": "6d3107ae-f375-4f80-b45d-c0b9acc4321c"
      },
      "source": [
        "data.head()"
      ],
      "execution_count": 5,
      "outputs": [
        {
          "output_type": "execute_result",
          "data": {
            "text/html": [
              "<div>\n",
              "<style scoped>\n",
              "    .dataframe tbody tr th:only-of-type {\n",
              "        vertical-align: middle;\n",
              "    }\n",
              "\n",
              "    .dataframe tbody tr th {\n",
              "        vertical-align: top;\n",
              "    }\n",
              "\n",
              "    .dataframe thead th {\n",
              "        text-align: right;\n",
              "    }\n",
              "</style>\n",
              "<table border=\"1\" class=\"dataframe\">\n",
              "  <thead>\n",
              "    <tr style=\"text-align: right;\">\n",
              "      <th></th>\n",
              "      <th>id</th>\n",
              "      <th>Full Name</th>\n",
              "      <th>Date of Birth</th>\n",
              "      <th>email</th>\n",
              "      <th>gender</th>\n",
              "      <th>Job</th>\n",
              "      <th>Company</th>\n",
              "      <th>Country</th>\n",
              "      <th>Salary</th>\n",
              "      <th>Phone</th>\n",
              "      <th>Quote</th>\n",
              "      <th>Income</th>\n",
              "      <th>Income.1</th>\n",
              "    </tr>\n",
              "  </thead>\n",
              "  <tbody>\n",
              "    <tr>\n",
              "      <th>0</th>\n",
              "      <td>1</td>\n",
              "      <td>Salim Pound</td>\n",
              "      <td>2/12/2018</td>\n",
              "      <td>spound0@spotify.com</td>\n",
              "      <td>Male</td>\n",
              "      <td>Editor</td>\n",
              "      <td>Gigashots</td>\n",
              "      <td>Israel</td>\n",
              "      <td>19QtDp5HkyuZZqwwqzYPSSLuA7MXFCwfKL</td>\n",
              "      <td>610-741-3882</td>\n",
              "      <td>Compatible discrete leverage</td>\n",
              "      <td>46476.638080</td>\n",
              "      <td>$46476.6380809961</td>\n",
              "    </tr>\n",
              "    <tr>\n",
              "      <th>1</th>\n",
              "      <td>2</td>\n",
              "      <td>Madelene Lutas</td>\n",
              "      <td>9/20/2018</td>\n",
              "      <td>mlutas1@si.edu</td>\n",
              "      <td>Female</td>\n",
              "      <td>VP Marketing</td>\n",
              "      <td>Wikivu</td>\n",
              "      <td>Mongolia</td>\n",
              "      <td>17ADLE8HiTj7m1tTbzboLDn7eiZ4TjetzZ</td>\n",
              "      <td>221-725-8860</td>\n",
              "      <td>Grass-roots real-time algorithm</td>\n",
              "      <td>54174.687950</td>\n",
              "      <td>$54174.6879482406</td>\n",
              "    </tr>\n",
              "    <tr>\n",
              "      <th>2</th>\n",
              "      <td>3</td>\n",
              "      <td>Dolli Swanbourne</td>\n",
              "      <td>11/18/2018</td>\n",
              "      <td>dswanbourne2@istockphoto.com</td>\n",
              "      <td>Female</td>\n",
              "      <td>Associate Professor</td>\n",
              "      <td>Dabfeed</td>\n",
              "      <td>Vietnam</td>\n",
              "      <td>16ThVxH72YAXWiEBeBZB1WYtXcfJMwUtoB</td>\n",
              "      <td>303-720-8280</td>\n",
              "      <td>Innovative system-worthy definition</td>\n",
              "      <td>5449.873348</td>\n",
              "      <td>$5449.87334818567</td>\n",
              "    </tr>\n",
              "    <tr>\n",
              "      <th>3</th>\n",
              "      <td>4</td>\n",
              "      <td>Graeme Croisier</td>\n",
              "      <td>9/29/2018</td>\n",
              "      <td>gcroisier3@parallels.com</td>\n",
              "      <td>Male</td>\n",
              "      <td>Mechanical Systems Engineer</td>\n",
              "      <td>Trudoo</td>\n",
              "      <td>Bosnia and Herzegovina</td>\n",
              "      <td>1JLUVwmjHvxgh53C7Afie3pWbjrYxV9Fnx</td>\n",
              "      <td>673-794-9917</td>\n",
              "      <td>Customer-focused didactic extranet</td>\n",
              "      <td>46784.630880</td>\n",
              "      <td>$46784.6308786279</td>\n",
              "    </tr>\n",
              "    <tr>\n",
              "      <th>4</th>\n",
              "      <td>5</td>\n",
              "      <td>Jillana Physic</td>\n",
              "      <td>4/19/2018</td>\n",
              "      <td>jphysic4@yellowbook.com</td>\n",
              "      <td>Female</td>\n",
              "      <td>Account Executive</td>\n",
              "      <td>Buzzshare</td>\n",
              "      <td>China</td>\n",
              "      <td>1DaEUNoAWL68pnvThSM5eBYgQMTv9mKyFG</td>\n",
              "      <td>709-146-6263</td>\n",
              "      <td>Progressive dynamic model</td>\n",
              "      <td>57486.495560</td>\n",
              "      <td>$57486.4955595568</td>\n",
              "    </tr>\n",
              "  </tbody>\n",
              "</table>\n",
              "</div>"
            ],
            "text/plain": [
              "   id         Full Name  ...        Income           Income.1\n",
              "0   1       Salim Pound  ...  46476.638080  $46476.6380809961\n",
              "1   2    Madelene Lutas  ...  54174.687950  $54174.6879482406\n",
              "2   3  Dolli Swanbourne  ...   5449.873348  $5449.87334818567\n",
              "3   4   Graeme Croisier  ...  46784.630880  $46784.6308786279\n",
              "4   5    Jillana Physic  ...  57486.495560  $57486.4955595568\n",
              "\n",
              "[5 rows x 13 columns]"
            ]
          },
          "metadata": {},
          "execution_count": 5
        }
      ]
    },
    {
      "cell_type": "code",
      "metadata": {
        "colab": {
          "base_uri": "https://localhost:8080/"
        },
        "id": "EssB7hUR-_Ql",
        "outputId": "23fcea3a-bec3-4b87-da09-62c3eb86dc65"
      },
      "source": [
        "# columns \n",
        "data.columns"
      ],
      "execution_count": 7,
      "outputs": [
        {
          "output_type": "execute_result",
          "data": {
            "text/plain": [
              "Index(['id', 'Full Name', 'Date of Birth', 'email', 'gender', 'Job', 'Company',\n",
              "       'Country', 'Salary', 'Phone', 'Quote', 'Income', 'Income.1'],\n",
              "      dtype='object')"
            ]
          },
          "metadata": {},
          "execution_count": 7
        }
      ]
    },
    {
      "cell_type": "code",
      "metadata": {
        "id": "Qy3tBrNI_K_B"
      },
      "source": [
        "# lowering\n",
        "data.columns = data.columns.str.lower()\n"
      ],
      "execution_count": 8,
      "outputs": []
    },
    {
      "cell_type": "code",
      "metadata": {
        "colab": {
          "base_uri": "https://localhost:8080/"
        },
        "id": "Ib-Vhgty_Pdr",
        "outputId": "e091e655-5f78-46e8-ffc2-e3ccff8d3fd6"
      },
      "source": [
        "data.columns"
      ],
      "execution_count": 9,
      "outputs": [
        {
          "output_type": "execute_result",
          "data": {
            "text/plain": [
              "Index(['id', 'full name', 'date of birth', 'email', 'gender', 'job', 'company',\n",
              "       'country', 'salary', 'phone', 'quote', 'income', 'income.1'],\n",
              "      dtype='object')"
            ]
          },
          "metadata": {},
          "execution_count": 9
        }
      ]
    },
    {
      "cell_type": "code",
      "metadata": {
        "id": "mIHd-CHG_S7g"
      },
      "source": [
        "# renaming columns \n",
        "data = data.rename(columns={'full name':'full_name','date of birth':'date_of_birth'})\n"
      ],
      "execution_count": 13,
      "outputs": []
    },
    {
      "cell_type": "code",
      "metadata": {
        "colab": {
          "base_uri": "https://localhost:8080/",
          "height": 428
        },
        "id": "6ADXlVCv_X-6",
        "outputId": "a107f6e0-cd5a-4061-e5d7-86e3218c16ee"
      },
      "source": [
        "data.head()"
      ],
      "execution_count": 14,
      "outputs": [
        {
          "output_type": "execute_result",
          "data": {
            "text/html": [
              "<div>\n",
              "<style scoped>\n",
              "    .dataframe tbody tr th:only-of-type {\n",
              "        vertical-align: middle;\n",
              "    }\n",
              "\n",
              "    .dataframe tbody tr th {\n",
              "        vertical-align: top;\n",
              "    }\n",
              "\n",
              "    .dataframe thead th {\n",
              "        text-align: right;\n",
              "    }\n",
              "</style>\n",
              "<table border=\"1\" class=\"dataframe\">\n",
              "  <thead>\n",
              "    <tr style=\"text-align: right;\">\n",
              "      <th></th>\n",
              "      <th>id</th>\n",
              "      <th>full_name</th>\n",
              "      <th>date_of_birth</th>\n",
              "      <th>email</th>\n",
              "      <th>gender</th>\n",
              "      <th>job</th>\n",
              "      <th>company</th>\n",
              "      <th>country</th>\n",
              "      <th>salary</th>\n",
              "      <th>phone</th>\n",
              "      <th>quote</th>\n",
              "      <th>income</th>\n",
              "      <th>income.1</th>\n",
              "    </tr>\n",
              "  </thead>\n",
              "  <tbody>\n",
              "    <tr>\n",
              "      <th>0</th>\n",
              "      <td>1</td>\n",
              "      <td>Salim Pound</td>\n",
              "      <td>2/12/2018</td>\n",
              "      <td>spound0@spotify.com</td>\n",
              "      <td>Male</td>\n",
              "      <td>Editor</td>\n",
              "      <td>Gigashots</td>\n",
              "      <td>Israel</td>\n",
              "      <td>19QtDp5HkyuZZqwwqzYPSSLuA7MXFCwfKL</td>\n",
              "      <td>610-741-3882</td>\n",
              "      <td>Compatible discrete leverage</td>\n",
              "      <td>46476.638080</td>\n",
              "      <td>$46476.6380809961</td>\n",
              "    </tr>\n",
              "    <tr>\n",
              "      <th>1</th>\n",
              "      <td>2</td>\n",
              "      <td>Madelene Lutas</td>\n",
              "      <td>9/20/2018</td>\n",
              "      <td>mlutas1@si.edu</td>\n",
              "      <td>Female</td>\n",
              "      <td>VP Marketing</td>\n",
              "      <td>Wikivu</td>\n",
              "      <td>Mongolia</td>\n",
              "      <td>17ADLE8HiTj7m1tTbzboLDn7eiZ4TjetzZ</td>\n",
              "      <td>221-725-8860</td>\n",
              "      <td>Grass-roots real-time algorithm</td>\n",
              "      <td>54174.687950</td>\n",
              "      <td>$54174.6879482406</td>\n",
              "    </tr>\n",
              "    <tr>\n",
              "      <th>2</th>\n",
              "      <td>3</td>\n",
              "      <td>Dolli Swanbourne</td>\n",
              "      <td>11/18/2018</td>\n",
              "      <td>dswanbourne2@istockphoto.com</td>\n",
              "      <td>Female</td>\n",
              "      <td>Associate Professor</td>\n",
              "      <td>Dabfeed</td>\n",
              "      <td>Vietnam</td>\n",
              "      <td>16ThVxH72YAXWiEBeBZB1WYtXcfJMwUtoB</td>\n",
              "      <td>303-720-8280</td>\n",
              "      <td>Innovative system-worthy definition</td>\n",
              "      <td>5449.873348</td>\n",
              "      <td>$5449.87334818567</td>\n",
              "    </tr>\n",
              "    <tr>\n",
              "      <th>3</th>\n",
              "      <td>4</td>\n",
              "      <td>Graeme Croisier</td>\n",
              "      <td>9/29/2018</td>\n",
              "      <td>gcroisier3@parallels.com</td>\n",
              "      <td>Male</td>\n",
              "      <td>Mechanical Systems Engineer</td>\n",
              "      <td>Trudoo</td>\n",
              "      <td>Bosnia and Herzegovina</td>\n",
              "      <td>1JLUVwmjHvxgh53C7Afie3pWbjrYxV9Fnx</td>\n",
              "      <td>673-794-9917</td>\n",
              "      <td>Customer-focused didactic extranet</td>\n",
              "      <td>46784.630880</td>\n",
              "      <td>$46784.6308786279</td>\n",
              "    </tr>\n",
              "    <tr>\n",
              "      <th>4</th>\n",
              "      <td>5</td>\n",
              "      <td>Jillana Physic</td>\n",
              "      <td>4/19/2018</td>\n",
              "      <td>jphysic4@yellowbook.com</td>\n",
              "      <td>Female</td>\n",
              "      <td>Account Executive</td>\n",
              "      <td>Buzzshare</td>\n",
              "      <td>China</td>\n",
              "      <td>1DaEUNoAWL68pnvThSM5eBYgQMTv9mKyFG</td>\n",
              "      <td>709-146-6263</td>\n",
              "      <td>Progressive dynamic model</td>\n",
              "      <td>57486.495560</td>\n",
              "      <td>$57486.4955595568</td>\n",
              "    </tr>\n",
              "  </tbody>\n",
              "</table>\n",
              "</div>"
            ],
            "text/plain": [
              "   id         full_name  ...        income           income.1\n",
              "0   1       Salim Pound  ...  46476.638080  $46476.6380809961\n",
              "1   2    Madelene Lutas  ...  54174.687950  $54174.6879482406\n",
              "2   3  Dolli Swanbourne  ...   5449.873348  $5449.87334818567\n",
              "3   4   Graeme Croisier  ...  46784.630880  $46784.6308786279\n",
              "4   5    Jillana Physic  ...  57486.495560  $57486.4955595568\n",
              "\n",
              "[5 rows x 13 columns]"
            ]
          },
          "metadata": {},
          "execution_count": 14
        }
      ]
    },
    {
      "cell_type": "code",
      "metadata": {
        "colab": {
          "base_uri": "https://localhost:8080/",
          "height": 428
        },
        "id": "g9ZFwFMk_dCX",
        "outputId": "2c74b5df-57b3-4d48-bb70-f25f209d5fd4"
      },
      "source": [
        "# split the column full name as first name and last name \n",
        "data['firstname'] = data.full_name.str.split(\" \").str.get(0)\n",
        "data['lastname'] = data.full_name.str.split(\" \").str.get(1)\n",
        "data.drop('full_name', axis=1, inplace=True)\n",
        "data.head()\n"
      ],
      "execution_count": 15,
      "outputs": [
        {
          "output_type": "execute_result",
          "data": {
            "text/html": [
              "<div>\n",
              "<style scoped>\n",
              "    .dataframe tbody tr th:only-of-type {\n",
              "        vertical-align: middle;\n",
              "    }\n",
              "\n",
              "    .dataframe tbody tr th {\n",
              "        vertical-align: top;\n",
              "    }\n",
              "\n",
              "    .dataframe thead th {\n",
              "        text-align: right;\n",
              "    }\n",
              "</style>\n",
              "<table border=\"1\" class=\"dataframe\">\n",
              "  <thead>\n",
              "    <tr style=\"text-align: right;\">\n",
              "      <th></th>\n",
              "      <th>id</th>\n",
              "      <th>date_of_birth</th>\n",
              "      <th>email</th>\n",
              "      <th>gender</th>\n",
              "      <th>job</th>\n",
              "      <th>company</th>\n",
              "      <th>country</th>\n",
              "      <th>salary</th>\n",
              "      <th>phone</th>\n",
              "      <th>quote</th>\n",
              "      <th>income</th>\n",
              "      <th>income.1</th>\n",
              "      <th>firstname</th>\n",
              "      <th>lastname</th>\n",
              "    </tr>\n",
              "  </thead>\n",
              "  <tbody>\n",
              "    <tr>\n",
              "      <th>0</th>\n",
              "      <td>1</td>\n",
              "      <td>2/12/2018</td>\n",
              "      <td>spound0@spotify.com</td>\n",
              "      <td>Male</td>\n",
              "      <td>Editor</td>\n",
              "      <td>Gigashots</td>\n",
              "      <td>Israel</td>\n",
              "      <td>19QtDp5HkyuZZqwwqzYPSSLuA7MXFCwfKL</td>\n",
              "      <td>610-741-3882</td>\n",
              "      <td>Compatible discrete leverage</td>\n",
              "      <td>46476.638080</td>\n",
              "      <td>$46476.6380809961</td>\n",
              "      <td>Salim</td>\n",
              "      <td>Pound</td>\n",
              "    </tr>\n",
              "    <tr>\n",
              "      <th>1</th>\n",
              "      <td>2</td>\n",
              "      <td>9/20/2018</td>\n",
              "      <td>mlutas1@si.edu</td>\n",
              "      <td>Female</td>\n",
              "      <td>VP Marketing</td>\n",
              "      <td>Wikivu</td>\n",
              "      <td>Mongolia</td>\n",
              "      <td>17ADLE8HiTj7m1tTbzboLDn7eiZ4TjetzZ</td>\n",
              "      <td>221-725-8860</td>\n",
              "      <td>Grass-roots real-time algorithm</td>\n",
              "      <td>54174.687950</td>\n",
              "      <td>$54174.6879482406</td>\n",
              "      <td>Madelene</td>\n",
              "      <td>Lutas</td>\n",
              "    </tr>\n",
              "    <tr>\n",
              "      <th>2</th>\n",
              "      <td>3</td>\n",
              "      <td>11/18/2018</td>\n",
              "      <td>dswanbourne2@istockphoto.com</td>\n",
              "      <td>Female</td>\n",
              "      <td>Associate Professor</td>\n",
              "      <td>Dabfeed</td>\n",
              "      <td>Vietnam</td>\n",
              "      <td>16ThVxH72YAXWiEBeBZB1WYtXcfJMwUtoB</td>\n",
              "      <td>303-720-8280</td>\n",
              "      <td>Innovative system-worthy definition</td>\n",
              "      <td>5449.873348</td>\n",
              "      <td>$5449.87334818567</td>\n",
              "      <td>Dolli</td>\n",
              "      <td>Swanbourne</td>\n",
              "    </tr>\n",
              "    <tr>\n",
              "      <th>3</th>\n",
              "      <td>4</td>\n",
              "      <td>9/29/2018</td>\n",
              "      <td>gcroisier3@parallels.com</td>\n",
              "      <td>Male</td>\n",
              "      <td>Mechanical Systems Engineer</td>\n",
              "      <td>Trudoo</td>\n",
              "      <td>Bosnia and Herzegovina</td>\n",
              "      <td>1JLUVwmjHvxgh53C7Afie3pWbjrYxV9Fnx</td>\n",
              "      <td>673-794-9917</td>\n",
              "      <td>Customer-focused didactic extranet</td>\n",
              "      <td>46784.630880</td>\n",
              "      <td>$46784.6308786279</td>\n",
              "      <td>Graeme</td>\n",
              "      <td>Croisier</td>\n",
              "    </tr>\n",
              "    <tr>\n",
              "      <th>4</th>\n",
              "      <td>5</td>\n",
              "      <td>4/19/2018</td>\n",
              "      <td>jphysic4@yellowbook.com</td>\n",
              "      <td>Female</td>\n",
              "      <td>Account Executive</td>\n",
              "      <td>Buzzshare</td>\n",
              "      <td>China</td>\n",
              "      <td>1DaEUNoAWL68pnvThSM5eBYgQMTv9mKyFG</td>\n",
              "      <td>709-146-6263</td>\n",
              "      <td>Progressive dynamic model</td>\n",
              "      <td>57486.495560</td>\n",
              "      <td>$57486.4955595568</td>\n",
              "      <td>Jillana</td>\n",
              "      <td>Physic</td>\n",
              "    </tr>\n",
              "  </tbody>\n",
              "</table>\n",
              "</div>"
            ],
            "text/plain": [
              "   id date_of_birth  ... firstname    lastname\n",
              "0   1     2/12/2018  ...     Salim       Pound\n",
              "1   2     9/20/2018  ...  Madelene       Lutas\n",
              "2   3    11/18/2018  ...     Dolli  Swanbourne\n",
              "3   4     9/29/2018  ...    Graeme    Croisier\n",
              "4   5     4/19/2018  ...   Jillana      Physic\n",
              "\n",
              "[5 rows x 14 columns]"
            ]
          },
          "metadata": {},
          "execution_count": 15
        }
      ]
    },
    {
      "cell_type": "code",
      "metadata": {
        "id": "qx97gjgg_6XA"
      },
      "source": [
        "# cleaning ncome ..we don;t want dolar there .\n",
        "data['income.1'] = data['income.1'].str.replace(\"$\", \"\")"
      ],
      "execution_count": 18,
      "outputs": []
    },
    {
      "cell_type": "code",
      "metadata": {
        "colab": {
          "base_uri": "https://localhost:8080/"
        },
        "id": "LT8KatfKAjq6",
        "outputId": "23f6c772-e4e6-4f9f-f765-8a28b7013df2"
      },
      "source": [
        "data.salary[:10]\n"
      ],
      "execution_count": 24,
      "outputs": [
        {
          "output_type": "execute_result",
          "data": {
            "text/plain": [
              "0    19QtDp5HkyuZZqwwqzYPSSLuA7MXFCwfKL\n",
              "1    17ADLE8HiTj7m1tTbzboLDn7eiZ4TjetzZ\n",
              "2    16ThVxH72YAXWiEBeBZB1WYtXcfJMwUtoB\n",
              "3    1JLUVwmjHvxgh53C7Afie3pWbjrYxV9Fnx\n",
              "4    1DaEUNoAWL68pnvThSM5eBYgQMTv9mKyFG\n",
              "5    1PQnf9A1CPFYqKiRqUMQcrMwwVuxytGzCv\n",
              "6    1DFtXEr5PLEa1FbACuLKAPt9wxBERqh3sV\n",
              "7    1BRHmiaJur3qG1H4H1WsU8VJLKHwxvqRwF\n",
              "8    1Bh5TDzod6dDQLC6WMwgHnUqH92kJ2scDg\n",
              "9    1EFPyyrv2cyHDBxdN9eoJyCfwMafVS42KS\n",
              "Name: salary, dtype: object"
            ]
          },
          "metadata": {},
          "execution_count": 24
        }
      ]
    },
    {
      "cell_type": "code",
      "metadata": {
        "colab": {
          "base_uri": "https://localhost:8080/"
        },
        "id": "C6dw0zUDBhLI",
        "outputId": "3f14d1e5-24ca-4745-8948-3a4da5ef0353"
      },
      "source": [
        "# check of nulls \n",
        "data.isna().sum()"
      ],
      "execution_count": 25,
      "outputs": [
        {
          "output_type": "execute_result",
          "data": {
            "text/plain": [
              "id               0\n",
              "date_of_birth    0\n",
              "email            0\n",
              "gender           0\n",
              "job              0\n",
              "company          0\n",
              "country          2\n",
              "salary           0\n",
              "phone            0\n",
              "quote            0\n",
              "income           5\n",
              "income.1         0\n",
              "firstname        0\n",
              "lastname         0\n",
              "dtype: int64"
            ]
          },
          "metadata": {},
          "execution_count": 25
        }
      ]
    },
    {
      "cell_type": "code",
      "metadata": {
        "id": "DaQ1Zy92Bw3M"
      },
      "source": [
        "# no nulls values \n"
      ],
      "execution_count": 26,
      "outputs": []
    },
    {
      "cell_type": "code",
      "metadata": {
        "id": "8QsSqNvJBzr6",
        "outputId": "78fd50bd-f9f4-443d-8644-91153b0ec978",
        "colab": {
          "base_uri": "https://localhost:8080/"
        }
      },
      "source": [
        "# phone number \n",
        "data.phone[:10]"
      ],
      "execution_count": 27,
      "outputs": [
        {
          "output_type": "execute_result",
          "data": {
            "text/plain": [
              "0    610-741-3882\n",
              "1    221-725-8860\n",
              "2    303-720-8280\n",
              "3    673-794-9917\n",
              "4    709-146-6263\n",
              "5    773-395-7487\n",
              "6    230-834-9807\n",
              "7    280-484-7263\n",
              "8    827-303-7439\n",
              "9    486-637-5565\n",
              "Name: phone, dtype: object"
            ]
          },
          "metadata": {},
          "execution_count": 27
        }
      ]
    },
    {
      "cell_type": "code",
      "metadata": {
        "id": "6lHwQ0HZB4Gs"
      },
      "source": [
        "# let's replace \"-\" with \"\"\n",
        "data.phone = data.phone.str.replace(\"-\", \"\")"
      ],
      "execution_count": 28,
      "outputs": []
    },
    {
      "cell_type": "code",
      "metadata": {
        "id": "1I-ZIreQCCTV",
        "outputId": "da4b1ddf-ec78-4cb1-a311-6e00057bda88",
        "colab": {
          "base_uri": "https://localhost:8080/"
        }
      },
      "source": [
        "data.phone[:10]"
      ],
      "execution_count": 29,
      "outputs": [
        {
          "output_type": "execute_result",
          "data": {
            "text/plain": [
              "0    6107413882\n",
              "1    2217258860\n",
              "2    3037208280\n",
              "3    6737949917\n",
              "4    7091466263\n",
              "5    7733957487\n",
              "6    2308349807\n",
              "7    2804847263\n",
              "8    8273037439\n",
              "9    4866375565\n",
              "Name: phone, dtype: object"
            ]
          },
          "metadata": {},
          "execution_count": 29
        }
      ]
    },
    {
      "cell_type": "code",
      "metadata": {
        "id": "Vay16YGiCDoH",
        "outputId": "c15ea417-371b-4f98-d80c-6034d9d3f63b",
        "colab": {
          "base_uri": "https://localhost:8080/",
          "height": 258
        }
      },
      "source": [
        "# check country wise \n",
        "avg_income_country_wise = data.groupby('country')['country', 'income'].mean().reset_index()\n",
        "avg_income_country_wise.columns = ['country', 'income']\n",
        "avg_income_country_wise.head()"
      ],
      "execution_count": 32,
      "outputs": [
        {
          "output_type": "stream",
          "text": [
            "/usr/local/lib/python3.7/dist-packages/ipykernel_launcher.py:2: FutureWarning: Indexing with multiple keys (implicitly converted to a tuple of keys) will be deprecated, use a list instead.\n",
            "  \n"
          ],
          "name": "stderr"
        },
        {
          "output_type": "execute_result",
          "data": {
            "text/html": [
              "<div>\n",
              "<style scoped>\n",
              "    .dataframe tbody tr th:only-of-type {\n",
              "        vertical-align: middle;\n",
              "    }\n",
              "\n",
              "    .dataframe tbody tr th {\n",
              "        vertical-align: top;\n",
              "    }\n",
              "\n",
              "    .dataframe thead th {\n",
              "        text-align: right;\n",
              "    }\n",
              "</style>\n",
              "<table border=\"1\" class=\"dataframe\">\n",
              "  <thead>\n",
              "    <tr style=\"text-align: right;\">\n",
              "      <th></th>\n",
              "      <th>country</th>\n",
              "      <th>income</th>\n",
              "    </tr>\n",
              "  </thead>\n",
              "  <tbody>\n",
              "    <tr>\n",
              "      <th>0</th>\n",
              "      <td>Afghanistan</td>\n",
              "      <td>25991.576891</td>\n",
              "    </tr>\n",
              "    <tr>\n",
              "      <th>1</th>\n",
              "      <td>Albania</td>\n",
              "      <td>25338.862270</td>\n",
              "    </tr>\n",
              "    <tr>\n",
              "      <th>2</th>\n",
              "      <td>Andorra</td>\n",
              "      <td>48446.729940</td>\n",
              "    </tr>\n",
              "    <tr>\n",
              "      <th>3</th>\n",
              "      <td>Argentina</td>\n",
              "      <td>20878.719444</td>\n",
              "    </tr>\n",
              "    <tr>\n",
              "      <th>4</th>\n",
              "      <td>Armenia</td>\n",
              "      <td>34739.877675</td>\n",
              "    </tr>\n",
              "  </tbody>\n",
              "</table>\n",
              "</div>"
            ],
            "text/plain": [
              "       country        income\n",
              "0  Afghanistan  25991.576891\n",
              "1      Albania  25338.862270\n",
              "2      Andorra  48446.729940\n",
              "3    Argentina  20878.719444\n",
              "4      Armenia  34739.877675"
            ]
          },
          "metadata": {},
          "execution_count": 32
        }
      ]
    },
    {
      "cell_type": "code",
      "metadata": {
        "id": "DXU9-McGCZts",
        "outputId": "23d1d6db-8075-4946-c0c8-5a8ce3948b43",
        "colab": {
          "base_uri": "https://localhost:8080/",
          "height": 569
        }
      },
      "source": [
        "import matplotlib.pyplot as plt \n",
        "\n",
        "plt.subplots(1,1, figsize=(14, 6))\n",
        "sns.barplot(data = avg_income_country_wise[:40], x='country', y='income')\n",
        "plt.xticks(rotation=90)\n",
        "plt.title('40 countries avg salary', size=20)\n",
        "plt.show()"
      ],
      "execution_count": 40,
      "outputs": [
        {
          "output_type": "display_data",
          "data": {
            "image/png": "[encoded data removed]",
            "text/plain": [
              "<Figure size 1008x432 with 1 Axes>"
            ]
          },
          "metadata": {
            "needs_background": "light"
          }
        }
      ]
    },
    {
      "cell_type": "code",
      "metadata": {
        "id": "YHZ8kTJfCzWP"
      },
      "source": [
        ""
      ],
      "execution_count": null,
      "outputs": []
    }
  ]
}